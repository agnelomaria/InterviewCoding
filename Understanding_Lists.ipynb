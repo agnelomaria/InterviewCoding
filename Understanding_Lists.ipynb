{
 "cells": [
  {
   "cell_type": "markdown",
   "metadata": {},
   "source": [
    "Copying"
   ]
  },
  {
   "cell_type": "code",
   "execution_count": 12,
   "metadata": {},
   "outputs": [],
   "source": [
    "from typing import List"
   ]
  },
  {
   "cell_type": "markdown",
   "metadata": {},
   "source": [
    "Doing a simple copy with equal creates a new variable which has a reference to the original object"
   ]
  },
  {
   "cell_type": "code",
   "execution_count": 1,
   "metadata": {},
   "outputs": [],
   "source": [
    "A= [2,3,4]\n",
    "B=A"
   ]
  },
  {
   "cell_type": "code",
   "execution_count": 20,
   "metadata": {},
   "outputs": [],
   "source": [
    "def printListId(A: List[int],B: List[int]) ->None:\n",
    "    print(\"original list id\", id(A))\n",
    "    print(\"new list id\", id(B))\n",
    "    print(\"Both ids are same\") if id(A) == id(B) else print(\"different ids\")\n",
    "def modifyList(A: List[int], B: List[int], newVal: int=100, ind: int=2) ->None:\n",
    "    B[ind] =newVal\n",
    "    print(\"New List:\", B)\n",
    "    print(\"Old List:\", A)"
   ]
  },
  {
   "cell_type": "code",
   "execution_count": 21,
   "metadata": {},
   "outputs": [
    {
     "name": "stdout",
     "output_type": "stream",
     "text": [
      "original list id 3122825501632\n",
      "new list id 3122825501632\n",
      "Both ids are same\n",
      "New List: [2, 3, 100]\n",
      "Old List: [2, 3, 100]\n"
     ]
    }
   ],
   "source": [
    "printListId(A,B)\n",
    "modifyList(A,B)"
   ]
  },
  {
   "cell_type": "code",
   "execution_count": 22,
   "metadata": {},
   "outputs": [
    {
     "name": "stdout",
     "output_type": "stream",
     "text": [
      "original list id 3122825501632\n",
      "new list id 3122826507392\n",
      "different ids\n",
      "New List: [2, 3, 300]\n",
      "Old List: [2, 3, 100]\n"
     ]
    }
   ],
   "source": [
    "C=list(A)\n",
    "printListId(A,C)\n",
    "modifyList(A,C,300,2)"
   ]
  },
  {
   "cell_type": "markdown",
   "metadata": {},
   "source": [
    "* Checking whether \"x\" is in a list takes O(n) time\n",
    "* For understanding shallow and deep copy check https://www.geeksforgeeks.org/copy-python-deep-copy-shallow-copy/\n",
    "* In slicing A[i:j:k] , i-> start position, j -> end position (exclusive), k -> step size\n",
    "* sort -> inplace, sorted -> returns a copy\n",
    "* reverse -> inplace, reversed -> returns an integer\n",
    "* to reverse a list at a position k , we can do a[k:] + a[:k]\n",
    "* a=b[:] creates a shallow copy of b , where a is a list with references copied from b "
   ]
  },
  {
   "cell_type": "markdown",
   "metadata": {},
   "source": [
    "### problem 1: Given a list of integers in an array, sort in place "
   ]
  },
  {
   "cell_type": "code",
   "execution_count": 23,
   "metadata": {},
   "outputs": [],
   "source": [
    "a = [1,2,3,4,5]\n",
    "next_even=0\n",
    "next_odd=4\n",
    "# a[next_even] is 1 which is odd , so we can swap 1 to position 4 and decrease next_odd by 1\n",
    "a=[5,2,3,4,1]\n",
    "next_odd -=1 # 3\n",
    "# a[next_even] is 5 which is odd so we can swap 5 with position 3 and decrease next_odd by 1\n",
    "a = [4,2,3,5,1]\n",
    "next_odd -=1 #2\n",
    "# a[next_even] is 4 which is even so we dont do anything but we move next_even by 1\n",
    "next_even +=1 # 1\n",
    "# a[next_even] is 2 which is even so we dont do anything but we move next_even by 1\n",
    "next_even +=1 # 2\n",
    "# here next_even==next_odd at which point the list is sorted\n"
   ]
  },
  {
   "cell_type": "code",
   "execution_count": 25,
   "metadata": {},
   "outputs": [
    {
     "name": "stdout",
     "output_type": "stream",
     "text": [
      "before swap [4, 2, 5, 3, 1]\n",
      "afterwards [4, 2, 3, 5, 1]\n"
     ]
    }
   ],
   "source": [
    "#testing list swap\n",
    "print(\"before swap\",a)\n",
    "a[2] ,a[3] = a[3],a[2]\n",
    "print(\"afterwards\",a)\n",
    "# in python doing swap like above means we dont need to explicitly specify a new variable"
   ]
  },
  {
   "cell_type": "code",
   "execution_count": 35,
   "metadata": {},
   "outputs": [],
   "source": [
    "def sort_even_odd(A: List[int]) -> List[int]:\n",
    "    next_even,next_odd = 0 , len(A) -1\n",
    "    while(next_even<next_odd):\n",
    "        if (A[next_even] % 2 ==0) : # it is even\n",
    "            next_even +=1\n",
    "        else:\n",
    "            A[next_even],A[next_odd] = A[next_odd],A[next_even]\n",
    "            next_odd -=1\n",
    "    return A\n",
    "    #time to run this is worst case O(n)"
   ]
  },
  {
   "cell_type": "code",
   "execution_count": 36,
   "metadata": {},
   "outputs": [
    {
     "name": "stdout",
     "output_type": "stream",
     "text": [
      "[4, 2, 3, 5, 1]\n"
     ]
    }
   ],
   "source": [
    "a =[1,2,3,4,5]\n",
    "print(sort_even_odd(a))"
   ]
  },
  {
   "cell_type": "code",
   "execution_count": 40,
   "metadata": {},
   "outputs": [
    {
     "name": "stdout",
     "output_type": "stream",
     "text": [
      "[4, 2, 3, 5, 1]\n"
     ]
    },
    {
     "data": {
      "text/plain": [
       "[4, 2, 3]"
      ]
     },
     "execution_count": 40,
     "metadata": {},
     "output_type": "execute_result"
    }
   ],
   "source": [
    "print(a)\n",
    "a[0:3]"
   ]
  },
  {
   "cell_type": "code",
   "execution_count": 41,
   "metadata": {},
   "outputs": [
    {
     "data": {
      "text/plain": [
       "[4, 2, 3]"
      ]
     },
     "execution_count": 41,
     "metadata": {},
     "output_type": "execute_result"
    }
   ],
   "source": [
    "a[0:3:1]"
   ]
  },
  {
   "cell_type": "code",
   "execution_count": 42,
   "metadata": {},
   "outputs": [
    {
     "data": {
      "text/plain": [
       "[4, 3]"
      ]
     },
     "execution_count": 42,
     "metadata": {},
     "output_type": "execute_result"
    }
   ],
   "source": [
    "a[0:3:2]"
   ]
  },
  {
   "cell_type": "code",
   "execution_count": 49,
   "metadata": {},
   "outputs": [
    {
     "data": {
      "text/plain": [
       "[1, 5, 3, 2, 4]"
      ]
     },
     "execution_count": 49,
     "metadata": {},
     "output_type": "execute_result"
    }
   ],
   "source": [
    "a[::-1]"
   ]
  },
  {
   "cell_type": "code",
   "execution_count": 50,
   "metadata": {},
   "outputs": [
    {
     "data": {
      "text/plain": [
       "[1, 3, 4]"
      ]
     },
     "execution_count": 50,
     "metadata": {},
     "output_type": "execute_result"
    }
   ],
   "source": [
    "a[::-2]"
   ]
  },
  {
   "cell_type": "code",
   "execution_count": 51,
   "metadata": {},
   "outputs": [
    {
     "data": {
      "text/plain": [
       "[4]"
      ]
     },
     "execution_count": 51,
     "metadata": {},
     "output_type": "execute_result"
    }
   ],
   "source": [
    "a[0::-1]"
   ]
  },
  {
   "cell_type": "code",
   "execution_count": 53,
   "metadata": {},
   "outputs": [
    {
     "data": {
      "text/plain": [
       "[1, 5, 3]"
      ]
     },
     "execution_count": 53,
     "metadata": {},
     "output_type": "execute_result"
    }
   ],
   "source": [
    "a[5:1:-1]# when giving indices with negative step size the start position must be greater than end position"
   ]
  },
  {
   "cell_type": "code",
   "execution_count": 55,
   "metadata": {},
   "outputs": [
    {
     "data": {
      "text/plain": [
       "[1]"
      ]
     },
     "execution_count": 55,
     "metadata": {},
     "output_type": "execute_result"
    }
   ],
   "source": [
    "a[4:]"
   ]
  },
  {
   "cell_type": "code",
   "execution_count": 56,
   "metadata": {},
   "outputs": [
    {
     "data": {
      "text/plain": [
       "[4, 2, 3, 5]"
      ]
     },
     "execution_count": 56,
     "metadata": {},
     "output_type": "execute_result"
    }
   ],
   "source": [
    "a[:4]"
   ]
  },
  {
   "cell_type": "markdown",
   "metadata": {},
   "source": [
    "### Quick Sort Algorithm"
   ]
  },
  {
   "cell_type": "code",
   "execution_count": null,
   "metadata": {},
   "outputs": [],
   "source": [
    "def partition(A : List[int], low : int, high: int) -> List[int]:\n",
    "    pivot = A[high]"
   ]
  }
 ],
 "metadata": {
  "kernelspec": {
   "display_name": "Python 3",
   "language": "python",
   "name": "python3"
  },
  "language_info": {
   "codemirror_mode": {
    "name": "ipython",
    "version": 3
   },
   "file_extension": ".py",
   "mimetype": "text/x-python",
   "name": "python",
   "nbconvert_exporter": "python",
   "pygments_lexer": "ipython3",
   "version": "3.8.8"
  }
 },
 "nbformat": 4,
 "nbformat_minor": 4
}
