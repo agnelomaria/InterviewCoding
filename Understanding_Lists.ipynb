{
 "cells": [
  {
   "cell_type": "markdown",
   "metadata": {},
   "source": [
    "Copying"
   ]
  },
  {
   "cell_type": "code",
   "execution_count": 55,
   "metadata": {},
   "outputs": [],
   "source": [
    "from typing import List"
   ]
  },
  {
   "cell_type": "markdown",
   "metadata": {},
   "source": [
    "Doing a simple copy with equal creates a new variable which has a reference to the original object"
   ]
  },
  {
   "cell_type": "code",
   "execution_count": 2,
   "metadata": {},
   "outputs": [],
   "source": [
    "A= [2,3,4]\n",
    "B=A"
   ]
  },
  {
   "cell_type": "code",
   "execution_count": 3,
   "metadata": {},
   "outputs": [],
   "source": [
    "def printListId(A: List[int],B: List[int]) ->None:\n",
    "    print(\"original list id\", id(A))\n",
    "    print(\"new list id\", id(B))\n",
    "    print(\"Both ids are same\") if id(A) == id(B) else print(\"different ids\")\n",
    "def modifyList(A: List[int], B: List[int], newVal: int=100, ind: int=2) ->None:\n",
    "    B[ind] =newVal\n",
    "    print(\"New List:\", B)\n",
    "    print(\"Old List:\", A)"
   ]
  },
  {
   "cell_type": "code",
   "execution_count": 4,
   "metadata": {},
   "outputs": [
    {
     "name": "stdout",
     "output_type": "stream",
     "text": [
      "original list id 2844423818240\n",
      "new list id 2844423818240\n",
      "Both ids are same\n",
      "New List: [2, 3, 100]\n",
      "Old List: [2, 3, 100]\n"
     ]
    }
   ],
   "source": [
    "printListId(A,B)\n",
    "modifyList(A,B)"
   ]
  },
  {
   "cell_type": "code",
   "execution_count": 5,
   "metadata": {},
   "outputs": [
    {
     "name": "stdout",
     "output_type": "stream",
     "text": [
      "original list id 2844423818240\n",
      "new list id 2844423511104\n",
      "different ids\n",
      "New List: [2, 3, 300]\n",
      "Old List: [2, 3, 100]\n"
     ]
    }
   ],
   "source": [
    "C=list(A)\n",
    "printListId(A,C)\n",
    "modifyList(A,C,300,2)"
   ]
  },
  {
   "cell_type": "markdown",
   "metadata": {},
   "source": [
    "* Checking whether \"x\" is in a list takes O(n) time\n",
    "* For understanding shallow and deep copy check https://www.geeksforgeeks.org/copy-python-deep-copy-shallow-copy/\n",
    "* In slicing A[i:j:k] , i-> start position, j -> end position (exclusive), k -> step size\n",
    "* sort -> inplace, sorted -> returns a copy\n",
    "* reverse -> inplace, reversed -> returns an integer\n",
    "* to reverse a list at a position k , we can do a[k:] + a[:k]\n",
    "* a=b[:] creates a shallow copy of b , where a is a list with references copied from b "
   ]
  },
  {
   "cell_type": "markdown",
   "metadata": {},
   "source": [
    "### problem 1: Given a list of integers in an array, sort in place such that even numbers occur followed by odd nubers"
   ]
  },
  {
   "cell_type": "code",
   "execution_count": 6,
   "metadata": {},
   "outputs": [],
   "source": [
    "a = [1,2,3,4,5]\n",
    "next_even=0\n",
    "next_odd=4\n",
    "# a[next_even] is 1 which is odd , so we can swap 1 to position 4 and decrease next_odd by 1\n",
    "a=[5,2,3,4,1]\n",
    "next_odd -=1 # 3\n",
    "# a[next_even] is 5 which is odd so we can swap 5 with position 3 and decrease next_odd by 1\n",
    "a = [4,2,3,5,1]\n",
    "next_odd -=1 #2\n",
    "# a[next_even] is 4 which is even so we dont do anything but we move next_even by 1\n",
    "next_even +=1 # 1\n",
    "# a[next_even] is 2 which is even so we dont do anything but we move next_even by 1\n",
    "next_even +=1 # 2\n",
    "# here next_even==next_odd at which point the list is sorted\n"
   ]
  },
  {
   "cell_type": "code",
   "execution_count": 7,
   "metadata": {},
   "outputs": [
    {
     "name": "stdout",
     "output_type": "stream",
     "text": [
      "before swap [4, 2, 3, 5, 1]\n",
      "afterwards [4, 2, 5, 3, 1]\n"
     ]
    }
   ],
   "source": [
    "#testing list swap\n",
    "print(\"before swap\",a)\n",
    "a[2] ,a[3] = a[3],a[2]\n",
    "print(\"afterwards\",a)\n",
    "# in python doing swap like above means we dont need to explicitly specify a new variable"
   ]
  },
  {
   "cell_type": "code",
   "execution_count": 8,
   "metadata": {},
   "outputs": [],
   "source": [
    "def sort_even_odd(A: List[int]) -> List[int]:\n",
    "    next_even,next_odd = 0 , len(A) -1\n",
    "    while(next_even<next_odd):\n",
    "        if (A[next_even] % 2 ==0) : # it is even\n",
    "            next_even +=1\n",
    "        else:\n",
    "            A[next_even],A[next_odd] = A[next_odd],A[next_even]\n",
    "            next_odd -=1\n",
    "    return A\n",
    "    #time to run this is worst case O(n)"
   ]
  },
  {
   "cell_type": "code",
   "execution_count": 9,
   "metadata": {},
   "outputs": [
    {
     "name": "stdout",
     "output_type": "stream",
     "text": [
      "[4, 2, 3, 5, 1]\n"
     ]
    }
   ],
   "source": [
    "\n",
    "a =[1,2,3,4,5]\n",
    "print(sort_even_odd(a))"
   ]
  },
  {
   "cell_type": "code",
   "execution_count": 10,
   "metadata": {},
   "outputs": [
    {
     "name": "stdout",
     "output_type": "stream",
     "text": [
      "[4, 2, 3, 5, 1]\n"
     ]
    },
    {
     "data": {
      "text/plain": [
       "[4, 2, 3]"
      ]
     },
     "execution_count": 10,
     "metadata": {},
     "output_type": "execute_result"
    }
   ],
   "source": [
    "print(a)\n",
    "a[0:3]"
   ]
  },
  {
   "cell_type": "code",
   "execution_count": 11,
   "metadata": {},
   "outputs": [
    {
     "data": {
      "text/plain": [
       "[4, 2, 3]"
      ]
     },
     "execution_count": 11,
     "metadata": {},
     "output_type": "execute_result"
    }
   ],
   "source": [
    "a[0:3:1]"
   ]
  },
  {
   "cell_type": "code",
   "execution_count": 12,
   "metadata": {},
   "outputs": [
    {
     "data": {
      "text/plain": [
       "[4, 3]"
      ]
     },
     "execution_count": 12,
     "metadata": {},
     "output_type": "execute_result"
    }
   ],
   "source": [
    "a[0:3:2]"
   ]
  },
  {
   "cell_type": "code",
   "execution_count": 13,
   "metadata": {},
   "outputs": [
    {
     "data": {
      "text/plain": [
       "[1, 5, 3, 2, 4]"
      ]
     },
     "execution_count": 13,
     "metadata": {},
     "output_type": "execute_result"
    }
   ],
   "source": [
    "a[::-1]"
   ]
  },
  {
   "cell_type": "code",
   "execution_count": 14,
   "metadata": {},
   "outputs": [
    {
     "data": {
      "text/plain": [
       "[1, 3, 4]"
      ]
     },
     "execution_count": 14,
     "metadata": {},
     "output_type": "execute_result"
    }
   ],
   "source": [
    "a[::-2]"
   ]
  },
  {
   "cell_type": "code",
   "execution_count": 15,
   "metadata": {},
   "outputs": [
    {
     "data": {
      "text/plain": [
       "[4]"
      ]
     },
     "execution_count": 15,
     "metadata": {},
     "output_type": "execute_result"
    }
   ],
   "source": [
    "a[0::-1]"
   ]
  },
  {
   "cell_type": "code",
   "execution_count": 16,
   "metadata": {},
   "outputs": [
    {
     "data": {
      "text/plain": [
       "[1, 5, 3]"
      ]
     },
     "execution_count": 16,
     "metadata": {},
     "output_type": "execute_result"
    }
   ],
   "source": [
    "a[5:1:-1]# when giving indices with negative step size the start position must be greater than end position"
   ]
  },
  {
   "cell_type": "code",
   "execution_count": 17,
   "metadata": {},
   "outputs": [
    {
     "data": {
      "text/plain": [
       "[1]"
      ]
     },
     "execution_count": 17,
     "metadata": {},
     "output_type": "execute_result"
    }
   ],
   "source": [
    "a[4:]"
   ]
  },
  {
   "cell_type": "code",
   "execution_count": 18,
   "metadata": {},
   "outputs": [
    {
     "data": {
      "text/plain": [
       "[4, 2, 3, 5]"
      ]
     },
     "execution_count": 18,
     "metadata": {},
     "output_type": "execute_result"
    }
   ],
   "source": [
    "a[:4]"
   ]
  },
  {
   "cell_type": "markdown",
   "metadata": {},
   "source": [
    "### Quick Sort Algorithm"
   ]
  },
  {
   "cell_type": "code",
   "execution_count": 41,
   "metadata": {},
   "outputs": [
    {
     "name": "stdout",
     "output_type": "stream",
     "text": [
      "2\n"
     ]
    }
   ],
   "source": [
    "a = [2,4,2,5,7,1]\n",
    "pivot = a[0];print(pivot)\n",
    "current_step = 0\n"
   ]
  },
  {
   "cell_type": "code",
   "execution_count": 42,
   "metadata": {},
   "outputs": [
    {
     "name": "stdout",
     "output_type": "stream",
     "text": [
      "2\n",
      "no action\n"
     ]
    }
   ],
   "source": [
    "index =0\n",
    "print(a[index])\n",
    "if a[index]==pivot:\n",
    "    if index==current_step:\n",
    "        print(\"no action\")"
   ]
  },
  {
   "cell_type": "code",
   "execution_count": 43,
   "metadata": {},
   "outputs": [
    {
     "name": "stdout",
     "output_type": "stream",
     "text": [
      "4\n",
      "no action\n"
     ]
    }
   ],
   "source": [
    "index=1\n",
    "print(a[index])\n",
    "if a[index] >pivot:\n",
    "    print(\"no action\")"
   ]
  },
  {
   "cell_type": "code",
   "execution_count": 44,
   "metadata": {},
   "outputs": [
    {
     "name": "stdout",
     "output_type": "stream",
     "text": [
      "2\n",
      "[2, 2, 4, 5, 7, 1]\n"
     ]
    }
   ],
   "source": [
    "index=2\n",
    "print(a[index])\n",
    "if a[index] == pivot:\n",
    "    if index==current_sep:\n",
    "        print(\"no action\")\n",
    "    else:\n",
    "        current_step+=1\n",
    "        a[index],a[current_step] = a[current_step],a[index]\n",
    "        print(a)"
   ]
  },
  {
   "cell_type": "code",
   "execution_count": 45,
   "metadata": {},
   "outputs": [
    {
     "name": "stdout",
     "output_type": "stream",
     "text": [
      "5\n",
      "no action\n"
     ]
    }
   ],
   "source": [
    "index=3\n",
    "print(a[index])\n",
    "if a[index] >pivot:\n",
    "    print(\"no action\")"
   ]
  },
  {
   "cell_type": "code",
   "execution_count": 46,
   "metadata": {},
   "outputs": [
    {
     "name": "stdout",
     "output_type": "stream",
     "text": [
      "7\n",
      "no action\n"
     ]
    }
   ],
   "source": [
    "index=4\n",
    "print(a[index])\n",
    "if a[index] >pivot:\n",
    "    print(\"no action\")"
   ]
  },
  {
   "cell_type": "code",
   "execution_count": 47,
   "metadata": {},
   "outputs": [
    {
     "name": "stdout",
     "output_type": "stream",
     "text": [
      "1\n",
      "[2, 2, 1, 5, 7, 4]\n"
     ]
    }
   ],
   "source": [
    "index=5\n",
    "print(a[index])\n",
    "if a[index] <pivot: # so both equal and less than have almost same pathway\n",
    "    current_step+=1\n",
    "    a[index],a[current_step] = a[current_step],a[index]\n",
    "    print(a)"
   ]
  },
  {
   "cell_type": "code",
   "execution_count": 58,
   "metadata": {},
   "outputs": [
    {
     "name": "stdout",
     "output_type": "stream",
     "text": [
      "[2, 2, 1, 5, 7, 4]\n",
      "2\n"
     ]
    }
   ],
   "source": [
    "a[0],a[current_step] = a[current_step],a[0]\n",
    "print(a)\n",
    "print(current_step)"
   ]
  },
  {
   "cell_type": "markdown",
   "metadata": {},
   "source": [
    "- So the quick sort algorithm has 3 stages:\n",
    "    - set a pivot eg. first element\n",
    "    - sort such that every thing less than pivot is before it and everything more than pivot is after it\n",
    "    - sort before and after step recursively"
   ]
  },
  {
   "cell_type": "code",
   "execution_count": 69,
   "metadata": {},
   "outputs": [],
   "source": [
    "def partition_sort (a : List[int],pivot_index: int =0)-> List[int]:\n",
    "    if len(a) == 0 or len(a) ==1:\n",
    "        return a\n",
    "    pivot = a[pivot_index]\n",
    "    current_step = 0 # index upto which we have sorted\n",
    "    for index in range(len(a)):\n",
    "        if a[index] <=pivot:\n",
    "            if(index == current_step):\n",
    "                continue\n",
    "            else:\n",
    "                current_step+=1\n",
    "                a[index],a[current_step] = a[current_step],a[index]\n",
    "    #last swap to bring pivot value in between\n",
    "    a[current_step],a[pivot_index] = a[pivot_index],a[current_step]\n",
    "    #recursion on left & right branches\n",
    "    left_sort = partition_sort(a[:current_step])\n",
    "    right_sort = partition_sort(a[current_step+1:])\n",
    "    return left_sort+[a[current_step]]+right_sort\n",
    "    \n",
    "                "
   ]
  },
  {
   "cell_type": "code",
   "execution_count": 70,
   "metadata": {},
   "outputs": [
    {
     "data": {
      "text/plain": [
       "[1, 2, 2, 4, 5, 7]"
      ]
     },
     "execution_count": 70,
     "metadata": {},
     "output_type": "execute_result"
    }
   ],
   "source": [
    "a = [2,4,2,5,7,1]\n",
    "partition_sort(a)"
   ]
  },
  {
   "cell_type": "code",
   "execution_count": null,
   "metadata": {},
   "outputs": [],
   "source": [
    "a = [2,4,2,5,7,1]\n",
    "partition_sort(a)"
   ]
  }
 ],
 "metadata": {
  "kernelspec": {
   "display_name": "Python 3",
   "language": "python",
   "name": "python3"
  },
  "language_info": {
   "codemirror_mode": {
    "name": "ipython",
    "version": 3
   },
   "file_extension": ".py",
   "mimetype": "text/x-python",
   "name": "python",
   "nbconvert_exporter": "python",
   "pygments_lexer": "ipython3",
   "version": "3.8.8"
  }
 },
 "nbformat": 4,
 "nbformat_minor": 4
}
